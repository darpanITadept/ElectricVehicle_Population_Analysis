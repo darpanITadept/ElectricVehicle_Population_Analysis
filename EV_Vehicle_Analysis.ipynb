{
 "cells": [
  {
   "cell_type": "code",
   "execution_count": 1,
   "metadata": {},
   "outputs": [],
   "source": [
    "import pandas as pd\n"
   ]
  },
  {
   "cell_type": "code",
   "execution_count": 2,
   "metadata": {},
   "outputs": [],
   "source": [
    "\n",
    "# Load the data into a Pandas DataFrame\n",
    "df = pd.read_excel('/Users/darpanchoudhary128/Desktop/ElectricVehicle_Population_Analysis/Electric_Vehicle_Population_Data.xlsx')\n"
   ]
  },
  {
   "cell_type": "code",
   "execution_count": 3,
   "metadata": {},
   "outputs": [
    {
     "name": "stdout",
     "output_type": "stream",
     "text": [
      "   VIN (1-10)    County     City State  Postal Code  Model Year    Make  \\\n",
      "0  5YJXCAE26J    Yakima   Yakima    WA      98908.0        2018   TESLA   \n",
      "1  JHMZC5F37M    Kitsap  Poulsbo    WA      98370.0        2021   HONDA   \n",
      "2  5YJ3E1EB0K      King  Seattle    WA      98199.0        2019   TESLA   \n",
      "3  1N4AZ0CP5D      King  Seattle    WA      98119.0        2013  NISSAN   \n",
      "4  5YJSA1E21H  Thurston    Lacey    WA      98516.0        2017   TESLA   \n",
      "\n",
      "     Model                   Electric Vehicle Type  \\\n",
      "0  MODEL X          Battery Electric Vehicle (BEV)   \n",
      "1  CLARITY  Plug-in Hybrid Electric Vehicle (PHEV)   \n",
      "2  MODEL 3          Battery Electric Vehicle (BEV)   \n",
      "3     LEAF          Battery Electric Vehicle (BEV)   \n",
      "4  MODEL S          Battery Electric Vehicle (BEV)   \n",
      "\n",
      "  Clean Alternative Fuel Vehicle (CAFV) Eligibility  Electric Range  \\\n",
      "0           Clean Alternative Fuel Vehicle Eligible             238   \n",
      "1           Clean Alternative Fuel Vehicle Eligible              47   \n",
      "2           Clean Alternative Fuel Vehicle Eligible             220   \n",
      "3           Clean Alternative Fuel Vehicle Eligible              75   \n",
      "4           Clean Alternative Fuel Vehicle Eligible             210   \n",
      "\n",
      "   Base MSRP  Legislative District  DOL Vehicle ID  \\\n",
      "0          0                  14.0       141151601   \n",
      "1          0                  23.0       171566447   \n",
      "2          0                  36.0         9426525   \n",
      "3          0                  36.0       211807760   \n",
      "4          0                  22.0       185810306   \n",
      "\n",
      "              Vehicle Location                              Electric Utility  \\\n",
      "0  POINT (-120.56916 46.58514)                                    PACIFICORP   \n",
      "1  POINT (-122.64681 47.73689)                        PUGET SOUND ENERGY INC   \n",
      "2  POINT (-122.40092 47.65908)  CITY OF SEATTLE - (WA)|CITY OF TACOMA - (WA)   \n",
      "3   POINT (-122.3684 47.64586)  CITY OF SEATTLE - (WA)|CITY OF TACOMA - (WA)   \n",
      "4  POINT (-122.75379 47.06316)                        PUGET SOUND ENERGY INC   \n",
      "\n",
      "   2020 Census Tract  \n",
      "0       5.307700e+10  \n",
      "1       5.303509e+10  \n",
      "2       5.303301e+10  \n",
      "3       5.303301e+10  \n",
      "4       5.306701e+10  \n"
     ]
    }
   ],
   "source": [
    "# Display the first few rows of the DataFrame\n",
    "print(df.head())"
   ]
  },
  {
   "cell_type": "code",
   "execution_count": 4,
   "metadata": {},
   "outputs": [
    {
     "name": "stdout",
     "output_type": "stream",
     "text": [
      "VIN (1-10)                                             0\n",
      "County                                                 3\n",
      "City                                                   3\n",
      "State                                                  0\n",
      "Postal Code                                            3\n",
      "Model Year                                             0\n",
      "Make                                                   0\n",
      "Model                                                222\n",
      "Electric Vehicle Type                                  0\n",
      "Clean Alternative Fuel Vehicle (CAFV) Eligibility      0\n",
      "Electric Range                                         0\n",
      "Base MSRP                                              0\n",
      "Legislative District                                 305\n",
      "DOL Vehicle ID                                         0\n",
      "Vehicle Location                                      33\n",
      "Electric Utility                                       3\n",
      "2020 Census Tract                                      3\n",
      "dtype: int64\n"
     ]
    }
   ],
   "source": [
    "# Check for missing values\n",
    "print(df.isnull().sum())\n"
   ]
  },
  {
   "cell_type": "code",
   "execution_count": 7,
   "metadata": {},
   "outputs": [],
   "source": [
    "# Example: Remove duplicate rows\n",
    "df = df.drop_duplicates()"
   ]
  },
  {
   "cell_type": "code",
   "execution_count": 9,
   "metadata": {},
   "outputs": [],
   "source": [
    "# Example: Convert 'Model_Year' to datetime\n",
    "df['Model Year'] = pd.to_datetime(df['Model Year'], format='%Y')\n"
   ]
  },
  {
   "cell_type": "code",
   "execution_count": 11,
   "metadata": {},
   "outputs": [],
   "source": [
    "# Example: Convert 'Postal_Code' to string\n",
    "df['Postal Code'] = df['Postal Code'].astype(str)"
   ]
  },
  {
   "cell_type": "code",
   "execution_count": 12,
   "metadata": {},
   "outputs": [],
   "source": [
    "# Example: Remove duplicate rows\n",
    "df = df.drop_duplicates()"
   ]
  },
  {
   "cell_type": "code",
   "execution_count": 14,
   "metadata": {},
   "outputs": [],
   "source": [
    "\n",
    "# Calculate the Total Base MSRP and Average Electric Range for Each Make and Model Combination\n",
    "model_stats = df.groupby(['Make', 'Model']).agg(\n",
    "    ModelCount=('VIN (1-10)', 'count'),\n",
    "    TotalBaseMSRP=('Base MSRP', 'sum'),\n",
    "    AvgElectricRange=('Electric Range', 'mean')\n",
    ").sort_values(by=['ModelCount', 'TotalBaseMSRP'], ascending=[False, False])\n"
   ]
  },
  {
   "cell_type": "code",
   "execution_count": 15,
   "metadata": {},
   "outputs": [
    {
     "name": "stdout",
     "output_type": "stream",
     "text": [
      "                   ModelCount  TotalBaseMSRP  AvgElectricRange\n",
      "Make      Model                                               \n",
      "TESLA     MODEL 3       25311              0        131.567303\n",
      "          MODEL Y       22078              0         31.356509\n",
      "NISSAN    LEAF          12961              0         88.033562\n",
      "TESLA     MODEL S        7399      106895300        186.946614\n",
      "CHEVROLET BOLT EV        5335              0        161.173196\n"
     ]
    }
   ],
   "source": [
    "print(model_stats.head())\n"
   ]
  },
  {
   "cell_type": "code",
   "execution_count": 16,
   "metadata": {},
   "outputs": [
    {
     "name": "stdout",
     "output_type": "stream",
     "text": [
      "               ModelCount  TotalBaseMSRP  AvgElectricRange\n",
      "Make  Model                                               \n",
      "TESLA MODEL S        7399      106895300        186.946614\n",
      "BMW   530E            376       15498300         15.678191\n",
      "KIA   SOUL            423       12843900         93.000000\n",
      "VOLVO XC60            858       11267700         23.095571\n",
      "BMW   330E            397        8268100         17.607053\n"
     ]
    }
   ],
   "source": [
    "# Identify Models with the Highest Total Base MSRP and Average Electric Range\n",
    "top_models = model_stats.nlargest(5, columns=['TotalBaseMSRP', 'AvgElectricRange'])\n",
    "print(top_models)\n"
   ]
  },
  {
   "cell_type": "code",
   "execution_count": 18,
   "metadata": {},
   "outputs": [],
   "source": [
    "# Calculate the Percentage of Electric Vehicles Eligible for Clean Alternative Fuel by County\n",
    "county_eligibility_percentage = df.groupby('County').agg(\n",
    "    TotalVehicles=('VIN (1-10)', 'count'),\n",
    "    EligibleVehicles=('Clean Alternative Fuel Vehicle (CAFV) Eligibility', lambda x: (x == 'Clean Alternative Fuel Vehicle Eligible').sum()),\n",
    "    PercentageEligible=('Clean Alternative Fuel Vehicle (CAFV) Eligibility', lambda x: (x == 'Clean Alternative Fuel Vehicle Eligible').mean() * 100)\n",
    ").sort_values(by='PercentageEligible', ascending=False)\n"
   ]
  },
  {
   "cell_type": "code",
   "execution_count": 19,
   "metadata": {},
   "outputs": [
    {
     "name": "stdout",
     "output_type": "stream",
     "text": [
      "            TotalVehicles  EligibleVehicles  PercentageEligible\n",
      "County                                                         \n",
      "Yavapai                 1                 1               100.0\n",
      "Oldham                  1                 1               100.0\n",
      "Sarasota                1                 1               100.0\n",
      "DeKalb                  1                 1               100.0\n",
      "Santa Cruz              1                 1               100.0\n"
     ]
    }
   ],
   "source": [
    "print(county_eligibility_percentage.head())\n"
   ]
  },
  {
   "cell_type": "code",
   "execution_count": 21,
   "metadata": {},
   "outputs": [
    {
     "name": "stdout",
     "output_type": "stream",
     "text": [
      "Legislative District\n",
      "45.0    86.748954\n",
      "41.0    86.656396\n",
      "12.0    84.751278\n",
      "48.0    84.543599\n",
      "40.0    82.369159\n",
      "Name: Electric Range, dtype: float64\n"
     ]
    }
   ],
   "source": [
    "# Find the Top 5 Legislative Districts with the Highest Average Electric Range\n",
    "top_legislative_districts = df.groupby('Legislative District')['Electric Range'].mean().nlargest(5)\n",
    "print(top_legislative_districts)\n"
   ]
  },
  {
   "cell_type": "code",
   "execution_count": 22,
   "metadata": {},
   "outputs": [
    {
     "name": "stdout",
     "output_type": "stream",
     "text": [
      "           Make    Model  Base MSRP  Electric Range\n",
      "277         BMW     530E      54950              14\n",
      "379       VOLVO     XC60      52900              17\n",
      "576       VOLVO     XC60      52900              17\n",
      "664     PORSCHE  CAYENNE      81100              14\n",
      "1000      VOLVO     XC60      52900              17\n",
      "...         ...      ...        ...             ...\n",
      "129694      BMW     530E      52650              16\n",
      "129775    VOLVO     XC60      52900              17\n",
      "130011    VOLVO     XC60      52900              17\n",
      "130198      BMW     740E      89100              14\n",
      "130377      BMW     530E      53400              16\n",
      "\n",
      "[640 rows x 4 columns]\n"
     ]
    }
   ],
   "source": [
    "# Identify Models and Makes with Low Battery Range but High Base MSRP\n",
    "low_battery_high_msrp = df[(df['Clean Alternative Fuel Vehicle (CAFV) Eligibility'] == 'Not eligible due to low battery range') & (df['Base MSRP'] > 50000)]\n",
    "print(low_battery_high_msrp[['Make', 'Model', 'Base MSRP', 'Electric Range']])\n"
   ]
  }
 ],
 "metadata": {
  "kernelspec": {
   "display_name": "Python 3.11.5 ('base')",
   "language": "python",
   "name": "python3"
  },
  "language_info": {
   "codemirror_mode": {
    "name": "ipython",
    "version": 3
   },
   "file_extension": ".py",
   "mimetype": "text/x-python",
   "name": "python",
   "nbconvert_exporter": "python",
   "pygments_lexer": "ipython3",
   "version": "3.11.5"
  },
  "orig_nbformat": 4,
  "vscode": {
   "interpreter": {
    "hash": "c49d5e5a8c465b3de2b7817ed918e2e9f8e9135447f5ee1f4df7b935567d16b2"
   }
  }
 },
 "nbformat": 4,
 "nbformat_minor": 2
}
